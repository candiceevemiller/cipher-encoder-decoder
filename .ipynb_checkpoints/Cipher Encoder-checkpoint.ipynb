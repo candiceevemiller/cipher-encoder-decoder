{
 "cells": [
  {
   "cell_type": "code",
   "execution_count": 4,
   "id": "d9e1bf1d-7c26-4a7b-afe4-a63eac29ca7a",
   "metadata": {},
   "outputs": [],
   "source": [
    "\"\"\"A CLI that can encode and decode ciphers\"\"\"\n",
    "\n",
    "import string"
   ]
  },
  {
   "cell_type": "code",
   "execution_count": 2,
   "id": "913b742d-69c0-42a3-bf85-61685bf9d0fc",
   "metadata": {},
   "outputs": [],
   "source": [
    "test_cipher = \"\"\"\n",
    "axeeh tzxgm fhhgebzam. b'ox lmtkmxw pbma tg xtlr vbiaxk yhk rhn mh atox t zh tm. mabl bl\n",
    "vteexw t vtxltk vbiaxk - paxkx rhn cnlm labym tee exmmxkl hy max teiatuxm mh max lbwx, maxkx\n",
    "tkx otkbtmbhgl hg mabl maxfx - utvdptkwl teiatuxm xmv - max gxqm vbiaxk rhn-ee atox mh vktvd pbee\n",
    "ux obzgxkx - lmnwr ni wtkebgz. lmtklabgx hnm.\n",
    "\"\"\""
   ]
  },
  {
   "cell_type": "code",
   "execution_count": 29,
   "id": "ff429b7b-a952-464b-bde0-22cdbe5a43d5",
   "metadata": {},
   "outputs": [],
   "source": [
    "def decode_caeser(caesar, offset=None):\n",
    "    caesar = caesar.lower()\n",
    "    alpha = string.ascii_lowercase\n",
    "    if offset:\n",
    "        offset = offset % 26\n",
    "        shifted = alpha[offset:] + alpha[:offset]\n",
    "        decode_dict = dict(zip(shifted, alpha))\n",
    "        \n",
    "        decoded = ''\n",
    "        for encoded_char in caesar:\n",
    "            if encoded_char in decode_dict.keys():\n",
    "                decoded = decoded + decode_dict[encoded_char]\n",
    "            else:\n",
    "                decoded = decoded + encoded_char\n",
    "        print(decoded)\n",
    "        return None\n",
    "    else:\n",
    "        for offset in range(0,26):\n",
    "            shifted = alpha[offset:] + alpha[:offset]\n",
    "            decode_dict = dict(zip(shifted, alpha))\n",
    "            \n",
    "            decoded = ''\n",
    "            for encoded_chcar in caesar:\n",
    "                if encoded_char in decode_dict.keys():\n",
    "                    decoded = decoded + decode_dict[encoded_char]\n",
    "                else:\n",
    "                    decoded = decoded + encoded_char\n",
    "            print(offset, decoded)\n",
    "            return None"
   ]
  },
  {
   "cell_type": "code",
   "execution_count": 30,
   "id": "f7e7a445-6f98-4ab4-980c-56c72d7c05a8",
   "metadata": {},
   "outputs": [
    {
     "ename": "NameError",
     "evalue": "name 'decode_caesar' is not defined",
     "output_type": "error",
     "traceback": [
      "\u001b[0;31m---------------------------------------------------------------------------\u001b[0m",
      "\u001b[0;31mNameError\u001b[0m                                 Traceback (most recent call last)",
      "Input \u001b[0;32mIn [30]\u001b[0m, in \u001b[0;36m<cell line: 1>\u001b[0;34m()\u001b[0m\n\u001b[0;32m----> 1\u001b[0m \u001b[43mdecode_caesar\u001b[49m(test_cipher)\n",
      "\u001b[0;31mNameError\u001b[0m: name 'decode_caesar' is not defined"
     ]
    }
   ],
   "source": [
    "decode_caesar(test_cipher)"
   ]
  }
 ],
 "metadata": {
  "kernelspec": {
   "display_name": "Python 3 (ipykernel)",
   "language": "python",
   "name": "python3"
  },
  "language_info": {
   "codemirror_mode": {
    "name": "ipython",
    "version": 3
   },
   "file_extension": ".py",
   "mimetype": "text/x-python",
   "name": "python",
   "nbconvert_exporter": "python",
   "pygments_lexer": "ipython3",
   "version": "3.10.6"
  }
 },
 "nbformat": 4,
 "nbformat_minor": 5
}
